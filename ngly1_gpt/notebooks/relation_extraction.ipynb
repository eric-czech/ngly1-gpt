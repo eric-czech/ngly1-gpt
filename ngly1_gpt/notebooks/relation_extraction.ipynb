{
 "cells": [
  {
   "cell_type": "code",
   "execution_count": 50,
   "metadata": {},
   "outputs": [
    {
     "name": "stdout",
     "output_type": "stream",
     "text": [
      "The autoreload extension is already loaded. To reload it, use:\n",
      "  %reload_ext autoreload\n"
     ]
    }
   ],
   "source": [
    "%load_ext autoreload\n",
    "%autoreload 2\n",
    "import sys\n",
    "import pandas as pd\n",
    "from ngly1_gpt import utils, llm, doc\n",
    "import logging\n",
    "logging.basicConfig(level=logging.INFO, stream=sys.stdout)"
   ]
  },
  {
   "cell_type": "code",
   "execution_count": null,
   "metadata": {},
   "outputs": [],
   "source": [
    "#!PYTHONPATH=\"$(pwd)\" python ngly1_gpt/cli.py extract_relations"
   ]
  },
  {
   "cell_type": "code",
   "execution_count": 57,
   "metadata": {},
   "outputs": [
    {
     "data": {
      "text/plain": [
       "28826"
      ]
     },
     "execution_count": 57,
     "metadata": {},
     "output_type": "execute_result"
    }
   ],
   "source": [
    "with open('data/extract/PMC4243708.txt', 'r') as f:\n",
    "    text = f.read()\n",
    "len(text)"
   ]
  },
  {
   "cell_type": "code",
   "execution_count": 60,
   "metadata": {},
   "outputs": [
    {
     "data": {
      "text/plain": [
       "14"
      ]
     },
     "execution_count": 60,
     "metadata": {},
     "output_type": "execute_result"
    }
   ],
   "source": [
    "chunks = doc.split_text(text, 1000, doc.nlp(), doc.encoding(llm.DEFAULT_MODEL))\n",
    "len(chunks)"
   ]
  },
  {
   "cell_type": "code",
   "execution_count": null,
   "metadata": {},
   "outputs": [],
   "source": []
  },
  {
   "cell_type": "code",
   "execution_count": 4,
   "metadata": {},
   "outputs": [
    {
     "name": "stdout",
     "output_type": "stream",
     "text": [
      "\n",
      "Hypotheses Generated for Pathophysiology of Clinical Findings:\n",
      "- Loss of neurons, indicated by brain atrophy on MRI and functional assessments, contribute to the functional impairment seen in NGLY1-CDDG. \n",
      "- Biochemical abnormalities such as lower CSF metabolites (BH4, 5-HIAA, HVA) may be secondary to brain atrophy.\n",
      "- An imbalance between glial cells and neurons, possibly due to loss of neurons, significantly contributes to the severity of the phenotype. This imbalance is indicated by lower NAA levels and increased choline, myo-inositol and creatine levels. \n",
      "- Impaired sweat response, largely affecting distal responses, may be due to a small fiber neuropathy rather than a central etiology or generalized cholinergic dysfunction. \n",
      "- Decreased CSF protein and albumin concentrations, potentially representing a novel diagnostic marker, could be related to the disorder's etiology. \n",
      "- NGLY1-CDDG could impair glycan recycling and lead to hypoglycosylation due to the role of N-glycanase 1 in cleaving the amide bond between the proximal N-acetylglucosamine residue of glycans and the asparagine residue of the protein. \n",
      "- A potential pathophysiologic contributor to NGLY1-CDDG is dysfunction in endoplasmic reticulum-associated degradation pathway (ERAD), as misfolded glycoproteins are processed through ERAD and then retrotranslocated into the cytoplasm, with N-glycanase, implicated in NGLY1-CDDG, being the first step in further degradation of these molecules. However, this hypothesis is tempered by preliminary experiments that found no impairment or enhancement of standard ERAD marker expression under normal conditions in NGLY1-CDDG patient fibroblasts.\n",
      "\n"
     ]
    }
   ],
   "source": [
    "# chunk = \"\"\"\n",
    "# Title\n",
    "# Mutations in NGLY1 Cause an Inherited Disorder of the Endoplasmic Reticulum-Associated Degradation (ERAD) Pathway\n",
    "\n",
    "# Abstract\n",
    "# Purpose: The endoplasmic reticulum-associated degradation (ERAD) pathway is responsible for the translocation of misfolded proteins across the ER membrane into the cytosol for subsequent degradation by the proteasome. In order to understand the spectrum of clinical and molecular findings in a complex neurological syndrome, we studied a series of eight patients with inherited deficiency of N-glycanase 1 (NGLY1), a novel disorder of cytosolic ERAD dysfunction.\n",
    "# Methods: Whole-genome, whole-exome or standard Sanger sequencing techniques were employed. Retrospective chart reviews were performed in order to obtain clinical data.\n",
    "# Results: All patients had global developmental delay, a movement disorder, and hypotonia. Other common findings included hypo- or alacrima (7/8), elevated liver transaminases (6/7), microcephaly (6/8), diminished reflexes (6/8), hepatocyte cytoplasmic storage material or vacuolization (5/6), and seizures (4/8). The nonsense mutation c.1201A>T (p.R401X) was the most common deleterious allele.\n",
    "# Conclusions: NGLY1 deficiency is a novel autosomal recessive disorder of the ERAD pathway associated with neurological dysfunction, abnormal tear production, and liver disease. The majority of patients detected to date carry a specific nonsense mutation that appears to be associated with severe disease. The phenotypic spectrum is likely to enlarge as cases with a more broad range of mutations are detected.\n",
    "# \"\"\"\n",
    "# chunk = \"\"\"\n",
    "# DISCUSSION\n",
    "# Summary of Novel Findings\n",
    "# Our prospective investigations into NGLY1-CDDG revealed several new discoveries associated with this disorder. These included low CSF total protein and albumin, optic atrophy and retinal pigmentary changes/cone dystrophy, poor weight gain starting in mid- childhood, lower than predicted resting energy expenditure, central and obstructive sleep apnea, delayed bone age, joint hypermobility, progressive brain atrophy, abnormalities in brain MRS-measured metabolites, various abnormalities on skeletal survey, high antibody titers after rubella and rubeola vaccination, and low levels of several pro- and anti- coagulation factors. Echocardiograms, electrocardiograms, and CSF lactate levels were normal.\n",
    "# We also confirmed and further detailed the global developmental delay, movement disorder, frequent seizure disorder, hypotonia, hypolacrima or alacrima, corneal disease, ptosis, lagophthalmous, strabismus, peripheral neuropathy and occasional diminished reflexes, hypohidrosis, auditory brainstem response abnormalities, abnormal brain imaging, scoliosis, acquired microcephaly, small hands and feet, dysmorphic features, constipation, elevated liver enzymes present only early in childhood, osteopenia, and hypocholesterolemia associated with NGLY1-CDDG. Compared with previously reported biopsy findings, our transient elastography results showed minimal if any fibrosis. In addition, we could not confirm abnormal storage material in the three liver biopsy specimens we analyzed, nor did we observe ocular apraxia in our individuals, despite performing detailed ophthalmologic evaluations that involved some subjects previously reported to have ocular apraxia11.\n",
    "# Based on our findings, we recommend considering NGLY1-CDDG in the differential diagnosis of any patient with the tetrad of developmental delay/intellectual disability, hyperkinetic movement disorder, hypolacrima, and a history of elevated transaminases during early childhood.\n",
    "# \"\"\"\n",
    "# chunk = \"\"\"\n",
    "\n",
    "# FIGURES\n",
    "# Figure 1: Distribution of NGLY1 mutations.\n",
    "# Shaded bars are exons. Previously unreported mutations are in bold. Mutations previously\n",
    "# published and not in this paper include c.1624C>T (exon 11), c.1205_1207delGAA (exon 8) and c.1533_1536delTCAA (exon 10). Four mutations lie within the catalytic domain (amino acid residues 292–353);, i.e., c.730T>C, c.953T>C, c.931G>A, and c.930C>T. The accession numbers for the NM_018297.3:c.931G>A, NM_018297.3:c.1604G>A, NM_018297.3:c.622C>T, NM_018297.3:c.347C>G, NM_018297.3:c.1169G>C, NM_018297.3:c.730T>C, NM_018297.3:c.1910delT, NM_018297.3:c.930C>T, NM_018297.3:c.881+5G>T\n",
    "# sequences reported in this paper are ClinVar: SCV000259179, SCV000259180, SCV000259181, SCV000259182, SCV000259183, SCV000259184, SCV000259185, SCV000259186, and SCV000259187 respectively.\n",
    "   \n",
    "# Figure 2: Facial features of NGLY1-CDDG.\n",
    "# Individuals with NGLY1-CDDG are arranged from youngest (top left) to oldest (bottom right). Facial features include upturned nasal tip, hypotonic facies, ptosis, brachycephaly, thinned facies, hollowed cheeks, and visible zygomatic arches. Interpupillary distance ranged from the 13–95 centiles with the mean at the 66th centile, and SEM of 8. Horizontal fissure length ranged from 3–70 centiles with mean at the 20th centile, and SEM of 1. Inner canthal distance ranged from 3–100 centiles with the mean at the 59th centile and SEM of 10. Outer canthal distance ranged from 6–81 centile with mean at the 43 centile and SEM of 7. Canthal index ranged from −2 to +2 SD from the normal mean.\n",
    "\n",
    "# Figure 3: Brain MRI findings.\n",
    "# White matter lesions were seen in two of eleven individuals. A shows multiple lesions in the periventricular white matter, some of which were confluent. B shows a single lesion in the periventricular white matter. Both A and B illustrate cerebral atrophy and were performed using T2-weighting. Sulci are slightly prominent in both A and B, and prominent ventricles are visible in A. C illustrates high position of the cerebellar tonsils, and large foramen of Magendie and cisterna magna.\n",
    "# \"\"\"\n",
    "\n",
    "chunk = \"\"\"\n",
    "Hypotheses Generated for Pathophysiology of Clinical Findings:\n",
    "- Loss of neurons, indicated by brain atrophy on MRI and functional assessments, contribute to the functional impairment seen in NGLY1-CDDG. \n",
    "- Biochemical abnormalities such as lower CSF metabolites (BH4, 5-HIAA, HVA) may be secondary to brain atrophy.\n",
    "- An imbalance between glial cells and neurons, possibly due to loss of neurons, significantly contributes to the severity of the phenotype. This imbalance is indicated by lower NAA levels and increased choline, myo-inositol and creatine levels. \n",
    "- Impaired sweat response, largely affecting distal responses, may be due to a small fiber neuropathy rather than a central etiology or generalized cholinergic dysfunction. \n",
    "- Decreased CSF protein and albumin concentrations, potentially representing a novel diagnostic marker, could be related to the disorder's etiology. \n",
    "- NGLY1-CDDG could impair glycan recycling and lead to hypoglycosylation due to the role of N-glycanase 1 in cleaving the amide bond between the proximal N-acetylglucosamine residue of glycans and the asparagine residue of the protein. \n",
    "- A potential pathophysiologic contributor to NGLY1-CDDG is dysfunction in endoplasmic reticulum-associated degradation pathway (ERAD), as misfolded glycoproteins are processed through ERAD and then retrotranslocated into the cytoplasm, with N-glycanase, implicated in NGLY1-CDDG, being the first step in further degradation of these molecules. However, this hypothesis is tempered by preliminary experiments that found no impairment or enhancement of standard ERAD marker expression under normal conditions in NGLY1-CDDG patient fibroblasts.\n",
    "\"\"\"\n",
    "\n",
    "print(chunk)"
   ]
  },
  {
   "cell_type": "code",
   "execution_count": 10,
   "metadata": {},
   "outputs": [
    {
     "data": {
      "text/plain": [
       "[83, 1609, 5963, 374, 2294, 0]"
      ]
     },
     "execution_count": 10,
     "metadata": {},
     "output_type": "execute_result"
    }
   ],
   "source": []
  },
  {
   "cell_type": "code",
   "execution_count": 8,
   "metadata": {},
   "outputs": [
    {
     "name": "stdout",
     "output_type": "stream",
     "text": [
      "INFO:ngly1_gpt.llm:Prompt:\n",
      "Text will be provided that contains information from a published, biomedical research article about NGLY1 deficiency. Extract subject-predicate-object relations from this text.\n",
      "\n",
      "Types of subjects and objects to extract:\n",
      "- biological process\n",
      "- cell type\n",
      "- cellular component\n",
      "- tissue\n",
      "- chemical substance\n",
      "- clinical trial\n",
      "- disease\n",
      "- drug\n",
      "- gene\n",
      "- protein\n",
      "- metabolite\n",
      "- gene family \n",
      "- genotype\n",
      "- genetic variant\n",
      "- transcript variant\n",
      "- protein variant\n",
      "- macromolecular complex\n",
      "- molecular activity\n",
      "- organism\n",
      "- pathway\n",
      "- phenotype\n",
      "- symptom\n",
      "\n",
      "Predicates to extract:\n",
      "- affects risk for\n",
      "- associated with\n",
      "- capable of\n",
      "- caused by\n",
      "- causes\n",
      "- colocalizes with\n",
      "- contributes to\n",
      "- correlated with\n",
      "- decreases abundance of\n",
      "- decreases activity of\n",
      "- derives from\n",
      "- disrupts\n",
      "- enables\n",
      "- exact match\n",
      "- expressed in\n",
      "- expresses\n",
      "- genetically interacts with\n",
      "- has affected feature\n",
      "- has attribute\n",
      "- has gene product\n",
      "- has genotype\n",
      "- has metabolite\n",
      "- has output\n",
      "- has participant\n",
      "- has phenotype\n",
      "- has role\n",
      "- in 1 to 1 orthology relationship with\n",
      "- in orthology relationship with\n",
      "- in paralogy relationship with\n",
      "- in taxon\n",
      "- in xenology relationship with\n",
      "- increases abundance of\n",
      "- increases activity of\n",
      "- instance of\n",
      "- interacts with\n",
      "- involved in\n",
      "- is allele of\n",
      "- is marker for\n",
      "- is model of\n",
      "- is part of\n",
      "- located in\n",
      "- location of\n",
      "- manifestation of\n",
      "- molecularly interacts with\n",
      "- negatively correlated with\n",
      "- negatively regulates\n",
      "- occurs in\n",
      "- part of\n",
      "- participates in\n",
      "- pathogenic for condition\n",
      "- positively correlated with\n",
      "- positively regulates\n",
      "- precedes\n",
      "- prevents\n",
      "- produced by\n",
      "- produces\n",
      "- regulates\n",
      "- treats\n",
      "\n",
      "Here is the text to extract relations from: \n",
      "--- BEGIN TEXT ---\n",
      "\n",
      "Hypotheses Generated for Pathophysiology of Clinical Findings:\n",
      "- Loss of neurons, indicated by brain atrophy on MRI and functional assessments, contribute to the functional impairment seen in NGLY1-CDDG. \n",
      "- Biochemical abnormalities such as lower CSF metabolites (BH4, 5-HIAA, HVA) may be secondary to brain atrophy.\n",
      "- An imbalance between glial cells and neurons, possibly due to loss of neurons, significantly contributes to the severity of the phenotype. This imbalance is indicated by lower NAA levels and increased choline, myo-inositol and creatine levels. \n",
      "- Impaired sweat response, largely affecting distal responses, may be due to a small fiber neuropathy rather than a central etiology or generalized cholinergic dysfunction. \n",
      "- Decreased CSF protein and albumin concentrations, potentially representing a novel diagnostic marker, could be related to the disorder's etiology. \n",
      "- NGLY1-CDDG could impair glycan recycling and lead to hypoglycosylation due to the role of N-glycanase 1 in cleaving the amide bond between the proximal N-acetylglucosamine residue of glycans and the asparagine residue of the protein. \n",
      "- A potential pathophysiologic contributor to NGLY1-CDDG is dysfunction in endoplasmic reticulum-associated degradation pathway (ERAD), as misfolded glycoproteins are processed through ERAD and then retrotranslocated into the cytoplasm, with N-glycanase, implicated in NGLY1-CDDG, being the first step in further degradation of these molecules. However, this hypothesis is tempered by preliminary experiments that found no impairment or enhancement of standard ERAD marker expression under normal conditions in NGLY1-CDDG patient fibroblasts.\n",
      "\n",
      "--- END TEXT ---\n",
      "\n",
      "Report each relation record on a separate line in CSV format using a pipe (i.e. \"|\") delimiter with the column headers: `subject`, `subject_entity`, `predicate`, `object`, `object_entity`.\n",
      "\n",
      "Requirements for this data:\n",
      "\n",
      "- All `subject` and `object` values must be INDIVIDUAL, specific, named concepts that represent an instance of one of the biomedical entities listed above.\n",
      "- The `subject_entity` and `object_entity` values must be exactly one of the biomedical entities listed above (e.g. \"pathway\" or \"disease\"), and they must describe the entity associated with the specific `subject` and `object`, repsectively.\n",
      "- All `predicate` values must be EXACTLY equivalent to one of the provided predicates (e.g. \"causes\" or \"participates in\"); do not use predicates outside of this list.\n",
      "- Assume that \"NGLY1 deficiency\" is associated with any entities discussed where context does not dictate otherwise, as is this is the primary subject of the article.\n",
      "- Extract as many relations as possible; do not ignore any of them that match the criteria provided.\n",
      "- Include the CSV headers in the response\n",
      "\n",
      "Here is an example response with illustrative data that demonstrates the desired result format:\n",
      "--- BEGIN EXAMPLE ---\n",
      "subject|subject_entity|predicate|object|object_entity\n",
      "Hutchinson-Gilford progeria syndrome|disease|has phenotype|osteolysis|phenotype\n",
      "--- END EXAMPLE ---\n",
      "\n",
      "Report only the relation records without explanation or other text of any kind.\n",
      "\n",
      "Extracted relation records:\n",
      "DEBUG:openai:message='Request to OpenAI API' method=post path=https://api.openai.com/v1/chat/completions\n"
     ]
    },
    {
     "name": "stdout",
     "output_type": "stream",
     "text": [
      "DEBUG:openai:api_version=None data='{\"model\": \"gpt-4\", \"messages\": [{\"role\": \"user\", \"content\": \"Text will be provided that contains information from a published, biomedical research article about NGLY1 deficiency. Extract subject-predicate-object relations from this text.\\\\n\\\\nTypes of subjects and objects to extract:\\\\n- biological process\\\\n- cell type\\\\n- cellular component\\\\n- tissue\\\\n- chemical substance\\\\n- clinical trial\\\\n- disease\\\\n- drug\\\\n- gene\\\\n- protein\\\\n- metabolite\\\\n- gene family \\\\n- genotype\\\\n- genetic variant\\\\n- transcript variant\\\\n- protein variant\\\\n- macromolecular complex\\\\n- molecular activity\\\\n- organism\\\\n- pathway\\\\n- phenotype\\\\n- symptom\\\\n\\\\nPredicates to extract:\\\\n- affects risk for\\\\n- associated with\\\\n- capable of\\\\n- caused by\\\\n- causes\\\\n- colocalizes with\\\\n- contributes to\\\\n- correlated with\\\\n- decreases abundance of\\\\n- decreases activity of\\\\n- derives from\\\\n- disrupts\\\\n- enables\\\\n- exact match\\\\n- expressed in\\\\n- expresses\\\\n- genetically interacts with\\\\n- has affected feature\\\\n- has attribute\\\\n- has gene product\\\\n- has genotype\\\\n- has metabolite\\\\n- has output\\\\n- has participant\\\\n- has phenotype\\\\n- has role\\\\n- in 1 to 1 orthology relationship with\\\\n- in orthology relationship with\\\\n- in paralogy relationship with\\\\n- in taxon\\\\n- in xenology relationship with\\\\n- increases abundance of\\\\n- increases activity of\\\\n- instance of\\\\n- interacts with\\\\n- involved in\\\\n- is allele of\\\\n- is marker for\\\\n- is model of\\\\n- is part of\\\\n- located in\\\\n- location of\\\\n- manifestation of\\\\n- molecularly interacts with\\\\n- negatively correlated with\\\\n- negatively regulates\\\\n- occurs in\\\\n- part of\\\\n- participates in\\\\n- pathogenic for condition\\\\n- positively correlated with\\\\n- positively regulates\\\\n- precedes\\\\n- prevents\\\\n- produced by\\\\n- produces\\\\n- regulates\\\\n- treats\\\\n\\\\nHere is the text to extract relations from: \\\\n--- BEGIN TEXT ---\\\\n\\\\nHypotheses Generated for Pathophysiology of Clinical Findings:\\\\n- Loss of neurons, indicated by brain atrophy on MRI and functional assessments, contribute to the functional impairment seen in NGLY1-CDDG. \\\\n- Biochemical abnormalities such as lower CSF metabolites (BH4, 5-HIAA, HVA) may be secondary to brain atrophy.\\\\n- An imbalance between glial cells and neurons, possibly due to loss of neurons, significantly contributes to the severity of the phenotype. This imbalance is indicated by lower NAA levels and increased choline, myo-inositol and creatine levels. \\\\n- Impaired sweat response, largely affecting distal responses, may be due to a small fiber neuropathy rather than a central etiology or generalized cholinergic dysfunction. \\\\n- Decreased CSF protein and albumin concentrations, potentially representing a novel diagnostic marker, could be related to the disorder\\'s etiology. \\\\n- NGLY1-CDDG could impair glycan recycling and lead to hypoglycosylation due to the role of N-glycanase 1 in cleaving the amide bond between the proximal N-acetylglucosamine residue of glycans and the asparagine residue of the protein. \\\\n- A potential pathophysiologic contributor to NGLY1-CDDG is dysfunction in endoplasmic reticulum-associated degradation pathway (ERAD), as misfolded glycoproteins are processed through ERAD and then retrotranslocated into the cytoplasm, with N-glycanase, implicated in NGLY1-CDDG, being the first step in further degradation of these molecules. However, this hypothesis is tempered by preliminary experiments that found no impairment or enhancement of standard ERAD marker expression under normal conditions in NGLY1-CDDG patient fibroblasts.\\\\n\\\\n--- END TEXT ---\\\\n\\\\nReport each relation record on a separate line in CSV format using a pipe (i.e. \\\\\"|\\\\\") delimiter with the column headers: `subject`, `subject_entity`, `predicate`, `object`, `object_entity`.\\\\n\\\\nRequirements for this data:\\\\n\\\\n- All `subject` and `object` values must be INDIVIDUAL, specific, named concepts that represent an instance of one of the biomedical entities listed above.\\\\n- The `subject_entity` and `object_entity` values must be exactly one of the biomedical entities listed above (e.g. \\\\\"pathway\\\\\" or \\\\\"disease\\\\\"), and they must describe the entity associated with the specific `subject` and `object`, repsectively.\\\\n- All `predicate` values must be EXACTLY equivalent to one of the provided predicates (e.g. \\\\\"causes\\\\\" or \\\\\"participates in\\\\\"); do not use predicates outside of this list.\\\\n- Assume that \\\\\"NGLY1 deficiency\\\\\" is associated with any entities discussed where context does not dictate otherwise, as is this is the primary subject of the article.\\\\n- Extract as many relations as possible; do not ignore any of them that match the criteria provided.\\\\n- Include the CSV headers in the response\\\\n\\\\nHere is an example response with illustrative data that demonstrates the desired result format:\\\\n--- BEGIN EXAMPLE ---\\\\nsubject|subject_entity|predicate|object|object_entity\\\\nHutchinson-Gilford progeria syndrome|disease|has phenotype|osteolysis|phenotype\\\\n--- END EXAMPLE ---\\\\n\\\\nReport only the relation records without explanation or other text of any kind.\\\\n\\\\nExtracted relation records:\"}]}' message='Post details'\n",
      "DEBUG:urllib3.util.retry:Converted retries value: 2 -> Retry(total=2, connect=None, read=None, redirect=None, status=None)\n",
      "DEBUG:urllib3.connectionpool:Starting new HTTPS connection (1): api.openai.com:443\n",
      "DEBUG:urllib3.connectionpool:https://api.openai.com:443 \"POST /v1/chat/completions HTTP/1.1\" 200 None\n",
      "DEBUG:openai:message='OpenAI API response' path=https://api.openai.com/v1/chat/completions processing_ms=39146 request_id=ace8643beb9c1a5f5e7c17ab0e64358c response_code=200\n",
      "INFO:ngly1_gpt.llm:Response:\n",
      "subject|subject_entity|predicate|object|object_entity\n",
      "Loss of neurons|biological process|contributes to|NGLY1-CDDG|disease\n",
      "Lower CSF metabolites|phenotype|associated with|brain atrophy|phenotype\n",
      "Imbalance between glial cells and neurons|phenotype|contributes to|severity of the phenotype in NGLY1-CDDG|disease\n",
      "Impaired sweat response|phenotype|associated with|small fiber neuropathy|disease\n",
      "Decreased CSF protein and albumin concentrations|phenotype|associated with|NGLY1-CDDG|disease\n",
      "NGLY1-CDDG|disease|enables|hypoglycosylation|biological process\n",
      "NGLY1-CDDG|disease|associated with|dysfunction in endoplasmic reticulum-associated degradation pathway|pathway\n",
      "Misfolded glycoproteins|protein|participates in|endoplasmic reticulum-associated degradation pathway|pathway\n",
      "N-glycanase 1|protein|has role in|cleaving the amide bond between the proximal N-acetylglucosamine residue of glycans and the asparagine residue of the protein|biological process\n",
      "N-glycanase|protein|involved in|degradation of misfolded glycoproteins|molecular activity\n",
      "NGLY1-CDDG patient fibroblasts|cell type|expresses|standard ERAD marker|protein\n",
      "NGLY1-CDDG|disease|associated with|lower NAA levels and increased choline, myo-inositol and creatine levels|phenotype\n",
      "----------------------------------------------------------------------------------------------------\n",
      "subject|subject_entity|predicate|object|object_entity\n",
      "Loss of neurons|biological process|contributes to|NGLY1-CDDG|disease\n",
      "Lower CSF metabolites|phenotype|associated with|brain atrophy|phenotype\n",
      "Imbalance between glial cells and neurons|phenotype|contributes to|severity of the phenotype in NGLY1-CDDG|disease\n",
      "Impaired sweat response|phenotype|associated with|small fiber neuropathy|disease\n",
      "Decreased CSF protein and albumin concentrations|phenotype|associated with|NGLY1-CDDG|disease\n",
      "NGLY1-CDDG|disease|enables|hypoglycosylation|biological process\n",
      "NGLY1-CDDG|disease|associated with|dysfunction in endoplasmic reticulum-associated degradation pathway|pathway\n",
      "Misfolded glycoproteins|protein|participates in|endoplasmic reticulum-associated degradation pathway|pathway\n",
      "N-glycanase 1|protein|has role in|cleaving the amide bond between the proximal N-acetylglucosamine residue of glycans and the asparagine residue of the protein|biological process\n",
      "N-glycanase|protein|involved in|degradation of misfolded glycoproteins|molecular activity\n",
      "NGLY1-CDDG patient fibroblasts|cell type|expresses|standard ERAD marker|protein\n",
      "NGLY1-CDDG|disease|associated with|lower NAA levels and increased choline, myo-inositol and creatine levels|phenotype\n"
     ]
    }
   ],
   "source": [
    "result = llm.extract_relations(chunk, disease=\"NGLY1 deficiency\", model=\"gpt-4\")\n",
    "print('-'*100)\n",
    "print(result)"
   ]
  },
  {
   "attachments": {},
   "cell_type": "markdown",
   "metadata": {},
   "source": [
    "----- \n",
    "\n",
    "Mechanism Hypothesis Summary"
   ]
  },
  {
   "cell_type": "code",
   "execution_count": 24,
   "metadata": {},
   "outputs": [],
   "source": [
    "text = \"\"\"\n",
    "Our detailed assessment of the phenotypic features has also led to several hypotheses regarding underlying pathophysiology. The strong correlation between brain atrophy on MRI and functional assessments suggests that loss of neurons contributes to the functional impairment. The atrophy also correlated with CSF metabolites (BH4, 5-HIAA, HVA), which are known to be lower when there is damage to neurotransmitter producing neurons22–24. This suggests that these biochemical abnormalities may be secondary to brain atrophy.\n",
    "\n",
    "Results from MRS showed that as functional impairment worsened and age increased, NAA decreased, while choline, myo-inositol and creatine increased. Additionally, creatine and myoinositol were inversely correlated, and NAA directly correlated, with neurotransmitter levels (5-HIAA, 5-HVA, 3-OMD, and neopterin, Supplementary Figure S3). NAA may be found exclusively in neurons and declines as neurons become unhealthy or die25,26. Elevations in choline could be consistent with a relative abundance of glial cells secondary to neuronal loss26. Myo-inositol is a glia-specific marker that is elevated by gliosis or inflammation27,28; in our cohort we do not have any evidence of inflammation. Creatine levels are relatively higher in glial cells compared to neurons29. Taken together, the MRS findings suggest that there is a relative abundance of glial cells compared to neurons in the brain of NGLY1-CDDG individuals, possibly due to loss of neurons, and that the degree of this imbalance contributes significantly to the severity of the phenotype.\n",
    "\n",
    "The impaired sweat response, largely affecting distal responses, is consistent with a small fiber neuropathy rather than a central etiology or generalized cholinergic dysfunction. Albumin CSF/serum quotient, or QAlb, is a marker of blood-CSF barrier dysfunction, and its value is inversely correlated to the CSF turnover rate30. There was no significant change in the QAlb ratio (data not shown), arguing against increased turnover as a possible etiology. Regardless of the mechanism, we propose that decreased CSF protein and albumin concentrations represent a novel diagnostic marker for this disorder.\n",
    "\n",
    "Individuals with NGLY1-CDDG and those with N-linked glycosylation disorders share the phenotypic features of low cholesterol, hepatopathy, peripheral neuropathy, retinal and optic nerve abnormalities, seizures, developmental delay with socialization as a relative strength, and delayed bone age18. NGLY1-CDDG also overlaps with O-linked glycosylation disorders with respect to hypolacrima19. There may be a pathogenic relationship; N-glycanase 1 catalyzes the cleavage of the amide bond between the proximal N-acetylglucosamine residue of glycans and the asparagine residue of the protein9, so NGLY1-CDDG could impair glycan recycling and lead to hypoglycosylation. Indeed, the individuals with NGLY1-CDDG exhibited subtle abnormalities in transferrin and ApoC-III glycosylation20.\n",
    "\n",
    "Another hypothesis for the etiology of the NGLY1-CDDG phenotype is based on the fact that misfolded glycoproteins are processed through the endoplasmic reticulum associated degradation pathway (ERAD) and then retrotranslocated into the cytoplasm. There, N-glycanase is the first step in further degradation of these molecules, making ERAD dysfunction a possible pathophysiologic contributor especially given evidence of ER-stress in mouse embryonic fibroblasts31. However, preliminary experiments found no impairment or enhancement of standard ERAD marker expression under normal conditions in NGLY1-CDDG patient fibroblasts (H.H. Freeze, personal communication, April 2016).\n",
    "\"\"\""
   ]
  },
  {
   "cell_type": "code",
   "execution_count": 25,
   "metadata": {},
   "outputs": [
    {
     "name": "stdout",
     "output_type": "stream",
     "text": [
      "DEBUG:ngly1_gpt.llm:Prompt:\n",
      "Text will be provided that contains information from a published, biomedical research article about \"NGLY1 deficiency\". Extract a summary of hypothesized causal, pathophysiological mechanisms that describe what biological processes and entities might be modulated by a therapeutic to treat the disease.  Summarize all hypotheses as a bullet-point list.  If there is only one hypothesis, summarize it as a single bullet point.  If there are no such hypotheses, respond with nothing at all.  Do not include any hypotheses that do not imply a clear, potential chemical or physical intervention.\n",
      "\n",
      "Here is the text to extract these potential mechanisms from:\n",
      "--- BEGIN TEXT ---\n",
      "\n",
      "Our detailed assessment of the phenotypic features has also led to several hypotheses regarding underlying pathophysiology. The strong correlation between brain atrophy on MRI and functional assessments suggests that loss of neurons contributes to the functional impairment. The atrophy also correlated with CSF metabolites (BH4, 5-HIAA, HVA), which are known to be lower when there is damage to neurotransmitter producing neurons22–24. This suggests that these biochemical abnormalities may be secondary to brain atrophy.\n",
      "\n",
      "Results from MRS showed that as functional impairment worsened and age increased, NAA decreased, while choline, myo-inositol and creatine increased. Additionally, creatine and myoinositol were inversely correlated, and NAA directly correlated, with neurotransmitter levels (5-HIAA, 5-HVA, 3-OMD, and neopterin, Supplementary Figure S3). NAA may be found exclusively in neurons and declines as neurons become unhealthy or die25,26. Elevations in choline could be consistent with a relative abundance of glial cells secondary to neuronal loss26. Myo-inositol is a glia-specific marker that is elevated by gliosis or inflammation27,28; in our cohort we do not have any evidence of inflammation. Creatine levels are relatively higher in glial cells compared to neurons29. Taken together, the MRS findings suggest that there is a relative abundance of glial cells compared to neurons in the brain of NGLY1-CDDG individuals, possibly due to loss of neurons, and that the degree of this imbalance contributes significantly to the severity of the phenotype.\n",
      "\n",
      "The impaired sweat response, largely affecting distal responses, is consistent with a small fiber neuropathy rather than a central etiology or generalized cholinergic dysfunction. Albumin CSF/serum quotient, or QAlb, is a marker of blood-CSF barrier dysfunction, and its value is inversely correlated to the CSF turnover rate30. There was no significant change in the QAlb ratio (data not shown), arguing against increased turnover as a possible etiology. Regardless of the mechanism, we propose that decreased CSF protein and albumin concentrations represent a novel diagnostic marker for this disorder.\n",
      "\n",
      "Individuals with NGLY1-CDDG and those with N-linked glycosylation disorders share the phenotypic features of low cholesterol, hepatopathy, peripheral neuropathy, retinal and optic nerve abnormalities, seizures, developmental delay with socialization as a relative strength, and delayed bone age18. NGLY1-CDDG also overlaps with O-linked glycosylation disorders with respect to hypolacrima19. There may be a pathogenic relationship; N-glycanase 1 catalyzes the cleavage of the amide bond between the proximal N-acetylglucosamine residue of glycans and the asparagine residue of the protein9, so NGLY1-CDDG could impair glycan recycling and lead to hypoglycosylation. Indeed, the individuals with NGLY1-CDDG exhibited subtle abnormalities in transferrin and ApoC-III glycosylation20.\n",
      "\n",
      "Another hypothesis for the etiology of the NGLY1-CDDG phenotype is based on the fact that misfolded glycoproteins are processed through the endoplasmic reticulum associated degradation pathway (ERAD) and then retrotranslocated into the cytoplasm. There, N-glycanase is the first step in further degradation of these molecules, making ERAD dysfunction a possible pathophysiologic contributor especially given evidence of ER-stress in mouse embryonic fibroblasts31. However, preliminary experiments found no impairment or enhancement of standard ERAD marker expression under normal conditions in NGLY1-CDDG patient fibroblasts (H.H. Freeze, personal communication, April 2016).\n",
      "\n",
      "--- END TEXT ---\n",
      "\n",
      "List of hypotheses:\n",
      "DEBUG:openai:message='Request to OpenAI API' method=post path=https://api.openai.com/v1/chat/completions\n",
      "DEBUG:openai:api_version=None data='{\"model\": \"gpt-4\", \"messages\": [{\"role\": \"user\", \"content\": \"Text will be provided that contains information from a published, biomedical research article about \\\\\"NGLY1 deficiency\\\\\". Extract a summary of hypothesized causal, pathophysiological mechanisms that describe what biological processes and entities might be modulated by a therapeutic to treat the disease.  Summarize all hypotheses as a bullet-point list.  If there is only one hypothesis, summarize it as a single bullet point.  If there are no such hypotheses, respond with nothing at all.  Do not include any hypotheses that do not imply a clear, potential chemical or physical intervention.\\\\n\\\\nHere is the text to extract these potential mechanisms from:\\\\n--- BEGIN TEXT ---\\\\n\\\\nOur detailed assessment of the phenotypic features has also led to several hypotheses regarding underlying pathophysiology. The strong correlation between brain atrophy on MRI and functional assessments suggests that loss of neurons contributes to the functional impairment. The atrophy also correlated with CSF metabolites (BH4, 5-HIAA, HVA), which are known to be lower when there is damage to neurotransmitter producing neurons22\\\\u201324. This suggests that these biochemical abnormalities may be secondary to brain atrophy.\\\\n\\\\nResults from MRS showed that as functional impairment worsened and age increased, NAA decreased, while choline, myo-inositol and creatine increased. Additionally, creatine and myoinositol were inversely correlated, and NAA directly correlated, with neurotransmitter levels (5-HIAA, 5-HVA, 3-OMD, and neopterin, Supplementary Figure S3). NAA may be found exclusively in neurons and declines as neurons become unhealthy or die25,26. Elevations in choline could be consistent with a relative abundance of glial cells secondary to neuronal loss26. Myo-inositol is a glia-specific marker that is elevated by gliosis or inflammation27,28; in our cohort we do not have any evidence of inflammation. Creatine levels are relatively higher in glial cells compared to neurons29. Taken together, the MRS findings suggest that there is a relative abundance of glial cells compared to neurons in the brain of NGLY1-CDDG individuals, possibly due to loss of neurons, and that the degree of this imbalance contributes significantly to the severity of the phenotype.\\\\n\\\\nThe impaired sweat response, largely affecting distal responses, is consistent with a small fiber neuropathy rather than a central etiology or generalized cholinergic dysfunction. Albumin CSF/serum quotient, or QAlb, is a marker of blood-CSF barrier dysfunction, and its value is inversely correlated to the CSF turnover rate30. There was no significant change in the QAlb ratio (data not shown), arguing against increased turnover as a possible etiology. Regardless of the mechanism, we propose that decreased CSF protein and albumin concentrations represent a novel diagnostic marker for this disorder.\\\\n\\\\nIndividuals with NGLY1-CDDG and those with N-linked glycosylation disorders share the phenotypic features of low cholesterol, hepatopathy, peripheral neuropathy, retinal and optic nerve abnormalities, seizures, developmental delay with socialization as a relative strength, and delayed bone age18. NGLY1-CDDG also overlaps with O-linked glycosylation disorders with respect to hypolacrima19. There may be a pathogenic relationship; N-glycanase 1 catalyzes the cleavage of the amide bond between the proximal N-acetylglucosamine residue of glycans and the asparagine residue of the protein9, so NGLY1-CDDG could impair glycan recycling and lead to hypoglycosylation. Indeed, the individuals with NGLY1-CDDG exhibited subtle abnormalities in transferrin and ApoC-III glycosylation20.\\\\n\\\\nAnother hypothesis for the etiology of the NGLY1-CDDG phenotype is based on the fact that misfolded glycoproteins are processed through the endoplasmic reticulum associated degradation pathway (ERAD) and then retrotranslocated into the cytoplasm. There, N-glycanase is the first step in further degradation of these molecules, making ERAD dysfunction a possible pathophysiologic contributor especially given evidence of ER-stress in mouse embryonic fibroblasts31. However, preliminary experiments found no impairment or enhancement of standard ERAD marker expression under normal conditions in NGLY1-CDDG patient fibroblasts (H.H. Freeze, personal communication, April 2016).\\\\n\\\\n--- END TEXT ---\\\\n\\\\nList of hypotheses:\"}]}' message='Post details'\n",
      "DEBUG:urllib3.util.retry:Converted retries value: 2 -> Retry(total=2, connect=None, read=None, redirect=None, status=None)\n",
      "DEBUG:urllib3.connectionpool:Starting new HTTPS connection (1): api.openai.com:443\n",
      "DEBUG:urllib3.connectionpool:https://api.openai.com:443 \"POST /v1/chat/completions HTTP/1.1\" 200 None\n",
      "DEBUG:openai:message='OpenAI API response' path=https://api.openai.com/v1/chat/completions processing_ms=25557 request_id=76f7cb5af357111fb1de184fe918e424 response_code=200\n",
      "DEBUG:ngly1_gpt.llm:Response:\n",
      "- Loss of neurons, indicated by brain atrophy on MRI and functional assessments, contribute to the functional impairment seen in NGLY1-CDDG. \n",
      "- Biochemical abnormalities such as lower CSF metabolites (BH4, 5-HIAA, HVA) may be secondary to brain atrophy.\n",
      "- An imbalance between glial cells and neurons, possibly due to loss of neurons, significantly contributes to the severity of the phenotype. This imbalance is indicated by lower NAA levels and increased choline, myo-inositol and creatine levels. \n",
      "- Impaired sweat response, largely affecting distal responses, may be due to a small fiber neuropathy rather than a central etiology or generalized cholinergic dysfunction. \n",
      "- Decreased CSF protein and albumin concentrations, potentially representing a novel diagnostic marker, could be related to the disorder's etiology. \n",
      "- NGLY1-CDDG could impair glycan recycling and lead to hypoglycosylation due to the role of N-glycanase 1 in cleaving the amide bond between the proximal N-acetylglucosamine residue of glycans and the asparagine residue of the protein. \n",
      "- A potential pathophysiologic contributor to NGLY1-CDDG is dysfunction in endoplasmic reticulum-associated degradation pathway (ERAD), as misfolded glycoproteins are processed through ERAD and then retrotranslocated into the cytoplasm, with N-glycanase, implicated in NGLY1-CDDG, being the first step in further degradation of these molecules. However, this hypothesis is tempered by preliminary experiments that found no impairment or enhancement of standard ERAD marker expression under normal conditions in NGLY1-CDDG patient fibroblasts.\n",
      "----------------------------------------------------------------------------------------------------\n",
      "- Loss of neurons, indicated by brain atrophy on MRI and functional assessments, contribute to the functional impairment seen in NGLY1-CDDG. \n",
      "- Biochemical abnormalities such as lower CSF metabolites (BH4, 5-HIAA, HVA) may be secondary to brain atrophy.\n",
      "- An imbalance between glial cells and neurons, possibly due to loss of neurons, significantly contributes to the severity of the phenotype. This imbalance is indicated by lower NAA levels and increased choline, myo-inositol and creatine levels. \n",
      "- Impaired sweat response, largely affecting distal responses, may be due to a small fiber neuropathy rather than a central etiology or generalized cholinergic dysfunction. \n",
      "- Decreased CSF protein and albumin concentrations, potentially representing a novel diagnostic marker, could be related to the disorder's etiology. \n",
      "- NGLY1-CDDG could impair glycan recycling and lead to hypoglycosylation due to the role of N-glycanase 1 in cleaving the amide bond between the proximal N-acetylglucosamine residue of glycans and the asparagine residue of the protein. \n",
      "- A potential pathophysiologic contributor to NGLY1-CDDG is dysfunction in endoplasmic reticulum-associated degradation pathway (ERAD), as misfolded glycoproteins are processed through ERAD and then retrotranslocated into the cytoplasm, with N-glycanase, implicated in NGLY1-CDDG, being the first step in further degradation of these molecules. However, this hypothesis is tempered by preliminary experiments that found no impairment or enhancement of standard ERAD marker expression under normal conditions in NGLY1-CDDG patient fibroblasts.\n"
     ]
    }
   ],
   "source": [
    "result = llm.extract_mechanism_hypotheses(text, disease=utils.NGLY1_DEFICIENCY, model=\"gpt-4\")\n",
    "print('-'*100)\n",
    "print(result)"
   ]
  }
 ],
 "metadata": {
  "kernelspec": {
   "display_name": "Python 3",
   "language": "python",
   "name": "python3"
  },
  "language_info": {
   "codemirror_mode": {
    "name": "ipython",
    "version": 3
   },
   "file_extension": ".py",
   "mimetype": "text/x-python",
   "name": "python",
   "nbconvert_exporter": "python",
   "pygments_lexer": "ipython3",
   "version": "3.10.12"
  },
  "orig_nbformat": 4
 },
 "nbformat": 4,
 "nbformat_minor": 2
}
