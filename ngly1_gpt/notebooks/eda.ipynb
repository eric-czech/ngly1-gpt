{
 "cells": [
  {
   "cell_type": "code",
   "execution_count": 1,
   "metadata": {},
   "outputs": [],
   "source": [
    "%load_ext autoreload\n",
    "%autoreload 2\n",
    "import sys\n",
    "import pandas as pd\n",
    "from ngly1_gpt import utils, llm\n",
    "import logging\n",
    "logging.basicConfig(level=logging.DEBUG, stream=sys.stdout)"
   ]
  },
  {
   "cell_type": "code",
   "execution_count": 2,
   "metadata": {},
   "outputs": [
    {
     "data": {
      "text/plain": [
       "28825"
      ]
     },
     "execution_count": 2,
     "metadata": {},
     "output_type": "execute_result"
    }
   ],
   "source": [
    "with open('data/extract/PMC4243708.txt', 'r') as f:\n",
    "    text = f.read()\n",
    "len(text)"
   ]
  },
  {
   "cell_type": "code",
   "execution_count": 3,
   "metadata": {},
   "outputs": [
    {
     "name": "stdout",
     "output_type": "stream",
     "text": [
      "Title\n",
      "Mutations in NGLY1 Cause an Inherited Disorder of the Endoplasmic Reticulum-Associated Degradation (ERAD) Pathway\n",
      "\n",
      "Abstract\n",
      "Purpose: The endoplasmic reticulum-associated degradation (ERAD) pathway is responsible for the translocation of misfolded proteins across the ER membrane into the cytosol for subsequent degradation by the proteasome. In order to understand the spectrum of clinical and molecular findings in a complex neurological syndrome, we studied a series of eight patients with inherited deficiency of N-glycanase 1 (NGLY1), a novel disorder of cytosolic ERAD dysfunction.\n",
      "Methods: Whole-genome, whole-exome or standard Sanger sequencing techniques were employed. Retrospective chart reviews were performed in order to obtain clinical data.\n",
      "Results: All patients had global developmental delay, a movement disorder, and hypotonia. Other common findings included hypo- or alacrima (7/8), elevated liver transaminases (6/7), microcephaly (6/8), diminished reflexes (6/8), hepatocyte cytoplasmic storage material or vacuolization (5/6), and seizures (4/8). The nonsense mutation c.1201A>T (p.R401X) was the most common deleterious allele.\n",
      "Conclusions: NGLY1 deficiency is a novel autosomal recessive disorder of the ERAD pathway associated with neurological dysfunction, abnormal tear production, and liver disease. The majority of patients detected to date carry a specific nonsense mutation that appears to be associated with severe disease. The phenotypic spectrum is likely to enlarge as cases with a more broad range of mutations are detected.\n",
      "\n",
      "Keywords\n",
      "NGLY1; alacrima; choreoathetosis; seizures; liver disease\n",
      "\n",
      "INTRODUCTION\n",
      "The enzyme N-glycanase 1 (NGLY1), also known as peptide:N-glycanase (PNGase, EC 3.5.1.52), catalyzes protein deglycosylation by cleaving the -aspartyl glycosylamine bond of N-linked glycoproteins with the subsequent release of intact N-glycan species [1]. NGLY1 activity was first described in almond seeds [1], but is ubiquitously present across a wid\n"
     ]
    }
   ],
   "source": [
    "print(text[:2000])"
   ]
  },
  {
   "cell_type": "code",
   "execution_count": 4,
   "metadata": {},
   "outputs": [],
   "source": [
    "chunk = \"\"\"\n",
    "Title\n",
    "Mutations in NGLY1 Cause an Inherited Disorder of the Endoplasmic Reticulum-Associated Degradation (ERAD) Pathway\n",
    "\n",
    "Abstract\n",
    "Purpose: The endoplasmic reticulum-associated degradation (ERAD) pathway is responsible for the translocation of misfolded proteins across the ER membrane into the cytosol for subsequent degradation by the proteasome. In order to understand the spectrum of clinical and molecular findings in a complex neurological syndrome, we studied a series of eight patients with inherited deficiency of N-glycanase 1 (NGLY1), a novel disorder of cytosolic ERAD dysfunction.\n",
    "Methods: Whole-genome, whole-exome or standard Sanger sequencing techniques were employed. Retrospective chart reviews were performed in order to obtain clinical data.\n",
    "Results: All patients had global developmental delay, a movement disorder, and hypotonia. Other common findings included hypo- or alacrima (7/8), elevated liver transaminases (6/7), microcephaly (6/8), diminished reflexes (6/8), hepatocyte cytoplasmic storage material or vacuolization (5/6), and seizures (4/8). The nonsense mutation c.1201A>T (p.R401X) was the most common deleterious allele.\n",
    "Conclusions: NGLY1 deficiency is a novel autosomal recessive disorder of the ERAD pathway associated with neurological dysfunction, abnormal tear production, and liver disease. The majority of patients detected to date carry a specific nonsense mutation that appears to be associated with severe disease. The phenotypic spectrum is likely to enlarge as cases with a more broad range of mutations are detected.\n",
    "\"\"\""
   ]
  },
  {
   "cell_type": "code",
   "execution_count": 7,
   "metadata": {},
   "outputs": [
    {
     "name": "stdout",
     "output_type": "stream",
     "text": [
      "DEBUG:ngly1_gpt.llm:Prompt:\n",
      "The following document contains information from a published, biomedical research article about NGLY1 deficiency.\n",
      "\n",
      "Extract subject-predicate-object triples from this text.\n",
      "\n",
      "Extract only subjects and objects that are specific, named concepts pertaining to the following biomedical entities:\n",
      "\n",
      "- biological process\n",
      "- cell type\n",
      "- cellular component\n",
      "- tissue\n",
      "- chemical substance\n",
      "- disease\n",
      "- drug\n",
      "- gene\n",
      "- protein\n",
      "- gene family \n",
      "- genotype\n",
      "- genetic variant\n",
      "- macromolecular complex\n",
      "- molecular activity\n",
      "- organism\n",
      "- pathway\n",
      "- phenotype\n",
      "- symptom\n",
      "\n",
      "Extract only predicates relating the concepts above that are semantically equivalent to any of the following:\n",
      "\n",
      "- affects risk for\n",
      "- associated with\n",
      "- capable of\n",
      "- caused by\n",
      "- causes\n",
      "- colocalizes with\n",
      "- contributes to\n",
      "- correlated with\n",
      "- decreases abundance of\n",
      "- decreases activity of\n",
      "- derives from\n",
      "- disrupts\n",
      "- enables\n",
      "- exact match\n",
      "- expressed in\n",
      "- expresses\n",
      "- genetically interacts with\n",
      "- has affected feature\n",
      "- has attribute\n",
      "- has gene product\n",
      "- has genotype\n",
      "- has metabolite\n",
      "- has output\n",
      "- has participant\n",
      "- has phenotype\n",
      "- has role\n",
      "- in 1 to 1 orthology relationship with\n",
      "- in orthology relationship with\n",
      "- in paralogy relationship with\n",
      "- in taxon\n",
      "- in xenology relationship with\n",
      "- increases abundance of\n",
      "- increases activity of\n",
      "- instance of\n",
      "- interacts with\n",
      "- involved in\n",
      "- is allele of\n",
      "- is marker for\n",
      "- is model of\n",
      "- is part of\n",
      "- located in\n",
      "- location of\n",
      "- manifestation of\n",
      "- molecularly interacts with\n",
      "- negatively correlated with\n",
      "- negatively regulates\n",
      "- occurs in\n",
      "- part of\n",
      "- participates in\n",
      "- pathogenic for condition\n",
      "- positively correlated with\n",
      "- positively regulates\n",
      "- precedes\n",
      "- prevents\n",
      "- produced by\n",
      "- produces\n",
      "- regulates\n",
      "- treats\n",
      "\n",
      "Here is the text to extract triples from:\n",
      "\n",
      "--- BEGIN TEXT ---\n",
      "\n",
      "\n",
      "Title\n",
      "Mutations in NGLY1 Cause an Inherited Disorder of the Endoplasmic Reticulum-Associated Degradation (ERAD) Pathway\n",
      "\n",
      "Abstract\n",
      "Purpose: The endoplasmic reticulum-associated degradation (ERAD) pathway is responsible for the translocation of misfolded proteins across the ER membrane into the cytosol for subsequent degradation by the proteasome. In order to understand the spectrum of clinical and molecular findings in a complex neurological syndrome, we studied a series of eight patients with inherited deficiency of N-glycanase 1 (NGLY1), a novel disorder of cytosolic ERAD dysfunction.\n",
      "Methods: Whole-genome, whole-exome or standard Sanger sequencing techniques were employed. Retrospective chart reviews were performed in order to obtain clinical data.\n",
      "Results: All patients had global developmental delay, a movement disorder, and hypotonia. Other common findings included hypo- or alacrima (7/8), elevated liver transaminases (6/7), microcephaly (6/8), diminished reflexes (6/8), hepatocyte cytoplasmic storage material or vacuolization (5/6), and seizures (4/8). The nonsense mutation c.1201A>T (p.R401X) was the most common deleterious allele.\n",
      "Conclusions: NGLY1 deficiency is a novel autosomal recessive disorder of the ERAD pathway associated with neurological dysfunction, abnormal tear production, and liver disease. The majority of patients detected to date carry a specific nonsense mutation that appears to be associated with severe disease. The phenotypic spectrum is likely to enlarge as cases with a more broad range of mutations are detected.\n",
      "\n",
      "\n",
      "--- END TEXT ---\n",
      "\n",
      "Lastly, extract only triples that **include the disease NGLY1 deficiency**.  This means that NGLY1 deficiency must \n",
      "be either the subject or the object in the triple and as the implicit subject of the article is NGLY1 deficiency, it\n",
      "should be assumed that this disease is associated with any entities discussed where context does not dictate otherwise.\n",
      "\n",
      "Report each triple on a separate line with the format `(subject, subject_biomedical_entity, predicate, object, object_biomedical_entity)`\n",
      "where the \"biomedical_entity\" values for both the subject and the object are any of the entities listed above, exactly as-is (e.g. \"pathway\" or \"disease\").\n",
      "An example is \"(NGLY1 deficiency, disease, causes, developmental delay, phenotype)\".\n",
      "\n",
      "Do not include explanation of any kind in the results.\n",
      "\n",
      "Extracted triples:\n",
      "DEBUG:openai:message='Request to OpenAI API' method=post path=https://api.openai.com/v1/chat/completions\n"
     ]
    },
    {
     "name": "stdout",
     "output_type": "stream",
     "text": [
      "DEBUG:openai:api_version=None data='{\"model\": \"gpt-4\", \"messages\": [{\"role\": \"user\", \"content\": \"The following document contains information from a published, biomedical research article about NGLY1 deficiency.\\\\n\\\\nExtract subject-predicate-object triples from this text.\\\\n\\\\nExtract only subjects and objects that are specific, named concepts pertaining to the following biomedical entities:\\\\n\\\\n- biological process\\\\n- cell type\\\\n- cellular component\\\\n- tissue\\\\n- chemical substance\\\\n- disease\\\\n- drug\\\\n- gene\\\\n- protein\\\\n- gene family \\\\n- genotype\\\\n- genetic variant\\\\n- macromolecular complex\\\\n- molecular activity\\\\n- organism\\\\n- pathway\\\\n- phenotype\\\\n- symptom\\\\n\\\\nExtract only predicates relating the concepts above that are semantically equivalent to any of the following:\\\\n\\\\n- affects risk for\\\\n- associated with\\\\n- capable of\\\\n- caused by\\\\n- causes\\\\n- colocalizes with\\\\n- contributes to\\\\n- correlated with\\\\n- decreases abundance of\\\\n- decreases activity of\\\\n- derives from\\\\n- disrupts\\\\n- enables\\\\n- exact match\\\\n- expressed in\\\\n- expresses\\\\n- genetically interacts with\\\\n- has affected feature\\\\n- has attribute\\\\n- has gene product\\\\n- has genotype\\\\n- has metabolite\\\\n- has output\\\\n- has participant\\\\n- has phenotype\\\\n- has role\\\\n- in 1 to 1 orthology relationship with\\\\n- in orthology relationship with\\\\n- in paralogy relationship with\\\\n- in taxon\\\\n- in xenology relationship with\\\\n- increases abundance of\\\\n- increases activity of\\\\n- instance of\\\\n- interacts with\\\\n- involved in\\\\n- is allele of\\\\n- is marker for\\\\n- is model of\\\\n- is part of\\\\n- located in\\\\n- location of\\\\n- manifestation of\\\\n- molecularly interacts with\\\\n- negatively correlated with\\\\n- negatively regulates\\\\n- occurs in\\\\n- part of\\\\n- participates in\\\\n- pathogenic for condition\\\\n- positively correlated with\\\\n- positively regulates\\\\n- precedes\\\\n- prevents\\\\n- produced by\\\\n- produces\\\\n- regulates\\\\n- treats\\\\n\\\\nHere is the text to extract triples from:\\\\n\\\\n--- BEGIN TEXT ---\\\\n\\\\n\\\\nTitle\\\\nMutations in NGLY1 Cause an Inherited Disorder of the Endoplasmic Reticulum-Associated Degradation (ERAD) Pathway\\\\n\\\\nAbstract\\\\nPurpose: The endoplasmic reticulum-associated degradation (ERAD) pathway is responsible for the translocation of misfolded proteins across the ER membrane into the cytosol for subsequent degradation by the proteasome. In order to understand the spectrum of clinical and molecular findings in a complex neurological syndrome, we studied a series of eight patients with inherited deficiency of N-glycanase 1 (NGLY1), a novel disorder of cytosolic ERAD dysfunction.\\\\nMethods: Whole-genome, whole-exome or standard Sanger sequencing techniques were employed. Retrospective chart reviews were performed in order to obtain clinical data.\\\\nResults: All patients had global developmental delay, a movement disorder, and hypotonia. Other common findings included hypo- or alacrima (7/8), elevated liver transaminases (6/7), microcephaly (6/8), diminished reflexes (6/8), hepatocyte cytoplasmic storage material or vacuolization (5/6), and seizures (4/8). The nonsense mutation c.1201A>T (p.R401X) was the most common deleterious allele.\\\\nConclusions: NGLY1 deficiency is a novel autosomal recessive disorder of the ERAD pathway associated with neurological dysfunction, abnormal tear production, and liver disease. The majority of patients detected to date carry a specific nonsense mutation that appears to be associated with severe disease. The phenotypic spectrum is likely to enlarge as cases with a more broad range of mutations are detected.\\\\n\\\\n\\\\n--- END TEXT ---\\\\n\\\\nLastly, extract only triples that **include the disease NGLY1 deficiency**.  This means that NGLY1 deficiency must \\\\nbe either the subject or the object in the triple and as the implicit subject of the article is NGLY1 deficiency, it\\\\nshould be assumed that this disease is associated with any entities discussed where context does not dictate otherwise.\\\\n\\\\nReport each triple on a separate line with the format `(subject, subject_biomedical_entity, predicate, object, object_biomedical_entity)`\\\\nwhere the \\\\\"biomedical_entity\\\\\" values for both the subject and the object are any of the entities listed above, exactly as-is (e.g. \\\\\"pathway\\\\\" or \\\\\"disease\\\\\").\\\\nAn example is \\\\\"(NGLY1 deficiency, disease, causes, developmental delay, phenotype)\\\\\".\\\\n\\\\nDo not include explanation of any kind in the results.\\\\n\\\\nExtracted triples:\"}]}' message='Post details'\n",
      "DEBUG:urllib3.util.retry:Converted retries value: 2 -> Retry(total=2, connect=None, read=None, redirect=None, status=None)\n",
      "DEBUG:urllib3.connectionpool:Starting new HTTPS connection (1): api.openai.com:443\n",
      "DEBUG:urllib3.connectionpool:https://api.openai.com:443 \"POST /v1/chat/completions HTTP/1.1\" 200 None\n",
      "DEBUG:openai:message='OpenAI API response' path=https://api.openai.com/v1/chat/completions processing_ms=18613 request_id=76ec6646eaba0a279fbfaf8993164c19 response_code=200\n",
      "DEBUG:ngly1_gpt.llm:Response:\n",
      "(NGLY1 deficiency, disease, caused by, mutations in NGLY1, genetic variant)\n",
      "(NGLY1 deficiency, disease, part of, ERAD pathway, pathway)\n",
      "(NGLY1 deficiency, disease, associated with, global developmental delay, phenotype)\n",
      "(NGLY1 deficiency, disease, associated with, movement disorder, symptom)\n",
      "(NGLY1 deficiency, disease, associated with, hypotonia, phenotype)\n",
      "(NGLY1 deficiency, disease, associated with, hypo- or alacrima, phenotype)\n",
      "(NGLY1 deficiency, disease, associated with, elevated liver transaminases, phenotype)\n",
      "(NGLY1 deficiency, disease, associated with, microcephaly, phenotype)\n",
      "(NGLY1 deficiency, disease, associated with, diminished reflexes, symptom)\n",
      "(NGLY1 deficiency, disease, associated with, hepatocyte cytoplasmic storage material or vacuolization, phenotype)\n",
      "(NGLY1 deficiency, disease, associated with, seizures, symptom)\n",
      "(NGLY1 deficiency, disease, caused by, the nonsense mutation c.1201A>T (p.R401X), genetic variant)\n",
      "(NGLY1 deficiency, disease, associated with, neurological dysfunction, phenotype)\n",
      "(NGLY1 deficiency, disease, associated with, abnormal tear production, phenotype)\n",
      "(NGLY1 deficiency, disease, associated with, liver disease, disease)\n",
      "----------------------------------------------------------------------------------------------------\n",
      "(NGLY1 deficiency, disease, caused by, mutations in NGLY1, genetic variant)\n",
      "(NGLY1 deficiency, disease, part of, ERAD pathway, pathway)\n",
      "(NGLY1 deficiency, disease, associated with, global developmental delay, phenotype)\n",
      "(NGLY1 deficiency, disease, associated with, movement disorder, symptom)\n",
      "(NGLY1 deficiency, disease, associated with, hypotonia, phenotype)\n",
      "(NGLY1 deficiency, disease, associated with, hypo- or alacrima, phenotype)\n",
      "(NGLY1 deficiency, disease, associated with, elevated liver transaminases, phenotype)\n",
      "(NGLY1 deficiency, disease, associated with, microcephaly, phenotype)\n",
      "(NGLY1 deficiency, disease, associated with, diminished reflexes, symptom)\n",
      "(NGLY1 deficiency, disease, associated with, hepatocyte cytoplasmic storage material or vacuolization, phenotype)\n",
      "(NGLY1 deficiency, disease, associated with, seizures, symptom)\n",
      "(NGLY1 deficiency, disease, caused by, the nonsense mutation c.1201A>T (p.R401X), genetic variant)\n",
      "(NGLY1 deficiency, disease, associated with, neurological dysfunction, phenotype)\n",
      "(NGLY1 deficiency, disease, associated with, abnormal tear production, phenotype)\n",
      "(NGLY1 deficiency, disease, associated with, liver disease, disease)\n"
     ]
    }
   ],
   "source": [
    "result = llm.extract_triples(chunk, model=\"gpt-4\")\n",
    "print('-'*100)\n",
    "print(result)"
   ]
  }
 ],
 "metadata": {
  "kernelspec": {
   "display_name": "Python 3",
   "language": "python",
   "name": "python3"
  },
  "language_info": {
   "codemirror_mode": {
    "name": "ipython",
    "version": 3
   },
   "file_extension": ".py",
   "mimetype": "text/x-python",
   "name": "python",
   "nbconvert_exporter": "python",
   "pygments_lexer": "ipython3",
   "version": "3.10.12"
  },
  "orig_nbformat": 4
 },
 "nbformat": 4,
 "nbformat_minor": 2
}
